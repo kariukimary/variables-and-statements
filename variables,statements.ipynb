{
 "cells": [
  {
   "cell_type": "markdown",
   "id": "dceb429f",
   "metadata": {},
   "source": [
    "# chapter 2:exercise"
   ]
  },
  {
   "cell_type": "markdown",
   "id": "e7f6cbb6",
   "metadata": {},
   "source": [
    "# question 1\n",
    "Write a program that uses input to prompt a user for their\n",
    "name and then welcomes them."
   ]
  },
  {
   "cell_type": "code",
   "execution_count": 2,
   "id": "cfcc957b",
   "metadata": {},
   "outputs": [
    {
     "name": "stdout",
     "output_type": "stream",
     "text": [
      "what is your namemary kariuki\n",
      "mary kariuki welcome to python programming\n"
     ]
    }
   ],
   "source": [
    "name=input(\"what is your name\")\n",
    "print(name+ \" \"+\"welcome to python programming\")\n",
    "    \n",
    "    "
   ]
  },
  {
   "cell_type": "markdown",
   "id": "fead4b8e",
   "metadata": {},
   "source": [
    "# question 2\n",
    "Write a program to prompt the user for hours and rate per\n",
    "hour to compute gross pay."
   ]
  },
  {
   "cell_type": "code",
   "execution_count": 7,
   "id": "2a86f328",
   "metadata": {},
   "outputs": [
    {
     "name": "stdout",
     "output_type": "stream",
     "text": [
      "number of hours35\n",
      "rate per hour2.75\n",
      "pay 96.25\n"
     ]
    }
   ],
   "source": [
    "hours=int(input(\"number of hours\"))\n",
    "rate_per_hour=float(input(\"rate per hour\"))\n",
    "print(\"pay\", hours*rate_per_hour)"
   ]
  },
  {
   "cell_type": "markdown",
   "id": "0cdbd4fa",
   "metadata": {},
   "source": [
    "# question 3\n",
    "Assume that we execute the following assignment statements:\n",
    "\n",
    "    width = 17\n",
    "    height = 12.0\n",
    "    \n",
    "For each of the following expressions, write the value of the expression and the\n",
    "type (of the value of the expression)."
   ]
  },
  {
   "cell_type": "code",
   "execution_count": 8,
   "id": "d81eb3c1",
   "metadata": {},
   "outputs": [
    {
     "data": {
      "text/plain": [
       "8"
      ]
     },
     "execution_count": 8,
     "metadata": {},
     "output_type": "execute_result"
    }
   ],
   "source": [
    "#(i)\n",
    "width = 17\n",
    "height = 12.0\n",
    "width//2"
   ]
  },
  {
   "cell_type": "code",
   "execution_count": 9,
   "id": "82968cfa",
   "metadata": {},
   "outputs": [
    {
     "data": {
      "text/plain": [
       "8.5"
      ]
     },
     "execution_count": 9,
     "metadata": {},
     "output_type": "execute_result"
    }
   ],
   "source": [
    "#(ii)\n",
    "width/2.0"
   ]
  },
  {
   "cell_type": "code",
   "execution_count": 10,
   "id": "02a9cb9b",
   "metadata": {},
   "outputs": [
    {
     "data": {
      "text/plain": [
       "4.0"
      ]
     },
     "execution_count": 10,
     "metadata": {},
     "output_type": "execute_result"
    }
   ],
   "source": [
    "#(iii)\n",
    "height/3"
   ]
  },
  {
   "cell_type": "code",
   "execution_count": 11,
   "id": "43efebfd",
   "metadata": {},
   "outputs": [
    {
     "data": {
      "text/plain": [
       "11"
      ]
     },
     "execution_count": 11,
     "metadata": {},
     "output_type": "execute_result"
    }
   ],
   "source": [
    "#(iv)\n",
    "1 + 2 * 5"
   ]
  },
  {
   "cell_type": "markdown",
   "id": "ece74621",
   "metadata": {},
   "source": [
    "# question 5\n",
    "Write a program which prompts the user for a Celsius tem-\n",
    "perature, convert the temperature to Fahrenheit, and print out the\n",
    "converted temperature."
   ]
  },
  {
   "cell_type": "code",
   "execution_count": 12,
   "id": "3d76133f",
   "metadata": {},
   "outputs": [
    {
     "name": "stdout",
     "output_type": "stream",
     "text": [
      "enter the temperature20\n",
      "2.0\n"
     ]
    }
   ],
   "source": [
    "temp=int(input(\"enter the temperature\"))\n",
    "fahrenheit=10\n",
    "print(temp/fahrenheit)"
   ]
  },
  {
   "cell_type": "code",
   "execution_count": null,
   "id": "3a6b9dfb",
   "metadata": {},
   "outputs": [],
   "source": []
  }
 ],
 "metadata": {
  "kernelspec": {
   "display_name": "Python 3 (ipykernel)",
   "language": "python",
   "name": "python3"
  },
  "language_info": {
   "codemirror_mode": {
    "name": "ipython",
    "version": 3
   },
   "file_extension": ".py",
   "mimetype": "text/x-python",
   "name": "python",
   "nbconvert_exporter": "python",
   "pygments_lexer": "ipython3",
   "version": "3.9.7"
  }
 },
 "nbformat": 4,
 "nbformat_minor": 5
}
